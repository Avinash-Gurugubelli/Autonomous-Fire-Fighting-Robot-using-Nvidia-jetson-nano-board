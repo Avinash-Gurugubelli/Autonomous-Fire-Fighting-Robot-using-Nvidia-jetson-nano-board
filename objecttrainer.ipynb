{
 "cells": [
  {
   "cell_type": "code",
   "execution_count": null,
   "metadata": {},
   "outputs": [],
   "source": [
    "from tensorflow.keras.applications import VGG16\n",
    "from tensorflow.keras.applications.vgg16 import preprocess_input\n",
    "from tensorflow.keras.preprocessing.image import load_img\n",
    "import numpy as np\n",
    "import matplotlib.pyplot as plt\n",
    "import glob\n",
    "vgg_model = VGG16(weights='imagenet')\n",
    "vgg_model.summary()\n",
    "from tensorflow.keras.models import Sequential\n",
    "from tensorflow.keras.layers import Dense\n",
    "from tensorflow.keras.optimizers import Adam\n",
    "model = Sequential()\n",
    "for layer in vgg_model.layers[:-1]:\n",
    "    layer.trainable = False\n",
    "    model.add(layer)\n",
    "model.summary()\n",
    "model.add(Dense(1,activation='sigmoid'))\n",
    "model.summary()\n",
    "obstacle = \"obstacle/*\"\n",
    "free = \"free/*\"\n",
    "glob.glob(free)\n",
    "x_train = []\n",
    "y_train = []\n",
    "\n",
    "for img in glob.glob(obstacle):\n",
    "    inp_img = load_img(img,target_size=(224,224))\n",
    "    inp_img = np.array(inp_img)\n",
    "    inp_img = preprocess_input(inp_img)\n",
    "    x_train.append(inp_img)\n",
    "    y_train.append(1)\n",
    "\n",
    "for img in glob.glob(free):\n",
    "    inp_img = load_img(img,target_size=(224,224))\n",
    "    inp_img = np.array(inp_img)\n",
    "    inp_img = preprocess_input(inp_img)\n",
    "    x_train.append(inp_img)\n",
    "    y_train.append(0)\n",
    "    \n",
    "x_train = np.array(x_train)\n",
    "y_train = np.array(y_train)\n",
    "x_train.shape\n",
    "model.compile(optimizer=Adam(),loss='binary_crossentropy',metrics='accuracy')\n",
    "model.fit(x=x_train,y=y_train,validation_split=.2,epochs=10)\n",
    "model.save(\"best.h5\")"
   ]
  }
 ],
 "metadata": {
  "language_info": {
   "name": "python"
  }
 },
 "nbformat": 4,
 "nbformat_minor": 2
}
